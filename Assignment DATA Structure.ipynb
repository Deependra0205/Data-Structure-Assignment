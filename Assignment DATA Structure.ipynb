{
 "cells": [
  {
   "cell_type": "code",
   "execution_count": 1,
   "id": "77e36f8c-e5f9-4780-b9d6-26a5d81146d1",
   "metadata": {},
   "outputs": [],
   "source": [
    "#Q1) Discuss string slicing and provide examples.\n",
    "Answer = \"\"\" String slicing allows to extract a portion of the string\n",
    "Systax = string[start:stop:step]"
   ]
  },
  {
   "cell_type": "code",
   "execution_count": 11,
   "id": "eab4e68f-1b5f-470f-9093-c380294323ca",
   "metadata": {},
   "outputs": [
    {
     "data": {
      "text/plain": [
       "'India'"
      ]
     },
     "execution_count": 11,
     "metadata": {},
     "output_type": "execute_result"
    }
   ],
   "source": [
    "#Example of string slicing\n",
    "text = \"India\"\n",
    "text[:5]"
   ]
  },
  {
   "cell_type": "code",
   "execution_count": 41,
   "id": "14f8bf8e-e880-4ab6-9cb3-3e7f921eeffe",
   "metadata": {},
   "outputs": [
    {
     "data": {
      "text/plain": [
       "'Ida'"
      ]
     },
     "execution_count": 41,
     "metadata": {},
     "output_type": "execute_result"
    }
   ],
   "source": [
    "text = \"India\"\n",
    "text[::2]"
   ]
  },
  {
   "cell_type": "code",
   "execution_count": 3,
   "id": "e4ac818a-230e-44fb-9a64-4ca5b627434f",
   "metadata": {},
   "outputs": [],
   "source": [
    "#Q2) Explain the key features of lists in Python.\n",
    "Answer = \"\"\" Python lists has various key features some of them are mentioned below.\n",
    "1. Lists has ordered elements it preserve elements in the inserted order.\n",
    "2. Lists are mutable, elements can be changed in lists.\n",
    "3. Lists can contain all type of data types like  integer,string,boolean,flaot. Lists are heterogeneous.\n",
    "4. Lists also provide indexing and slicing.\n",
    "5. Lists has some built-in methods.\n",
    "        a) append()\n",
    "        b) insert()\n",
    "        c) remove()\n",
    "        d) sort()\n",
    "        e) pop()\n",
    "        f) index() \"\"\"\n",
    "        "
   ]
  },
  {
   "cell_type": "code",
   "execution_count": 63,
   "id": "d544bb10-2cc4-45e1-97db-f0a30fcb0d84",
   "metadata": {},
   "outputs": [],
   "source": [
    "#Q3) Describe how to access, modify, and delete elements in a list with examples.\n",
    "#Access to list elements can be done by indexing. Indexing starts with 0.\n",
    "Fruit_list = [\"apple\",\"mango\",\"grapes\",\"banana\"]\n",
    "#if we need to access grapes which has index on 2 so,"
   ]
  },
  {
   "cell_type": "code",
   "execution_count": 64,
   "id": "500b5750-cc52-4d5a-93b1-b7e615d88219",
   "metadata": {},
   "outputs": [
    {
     "data": {
      "text/plain": [
       "'grapes'"
      ]
     },
     "execution_count": 64,
     "metadata": {},
     "output_type": "execute_result"
    }
   ],
   "source": [
    "Fruit_list[2]"
   ]
  },
  {
   "cell_type": "code",
   "execution_count": 65,
   "id": "227d92d9-ca75-4b76-b143-d2c64bdb2bdc",
   "metadata": {},
   "outputs": [],
   "source": [
    "#Modiy = Modifying list is easy. We can modify list by assining new value to the desired index.\n",
    "#Modifying can also be done by append(),insert(),extend().\n",
    "Fruit_list = [\"apple\",\"mango\",\"grapes\",\"banana\"]\n",
    "# If we need to replace grapes with orange"
   ]
  },
  {
   "cell_type": "code",
   "execution_count": 66,
   "id": "174ea418-9bfd-424f-908c-52a8b7505b45",
   "metadata": {},
   "outputs": [
    {
     "data": {
      "text/plain": [
       "['apple', 'mango', 'orange', 'banana']"
      ]
     },
     "execution_count": 66,
     "metadata": {},
     "output_type": "execute_result"
    }
   ],
   "source": [
    "Fruit_list[2] = \"orange\"\n",
    "Fruit_list"
   ]
  },
  {
   "cell_type": "code",
   "execution_count": 68,
   "id": "a1a2ce12-1c40-4615-bde9-f78921b3e541",
   "metadata": {},
   "outputs": [
    {
     "data": {
      "text/plain": [
       "'banana'"
      ]
     },
     "execution_count": 68,
     "metadata": {},
     "output_type": "execute_result"
    }
   ],
   "source": [
    "#Delete element in list - Delete elemet in list can be done by various key methods like remove(),del(),pop().\n",
    "Fruit_list = [\"apple\",\"mango\",\"grapes\",\"banana\"]\n",
    "Fruit_list.pop()"
   ]
  },
  {
   "cell_type": "code",
   "execution_count": 69,
   "id": "a9c87d6a-28fb-413c-807c-1b190a84fdb2",
   "metadata": {},
   "outputs": [
    {
     "data": {
      "text/plain": [
       "['apple', 'mango', 'grapes']"
      ]
     },
     "execution_count": 69,
     "metadata": {},
     "output_type": "execute_result"
    }
   ],
   "source": [
    "Fruit_list"
   ]
  },
  {
   "cell_type": "code",
   "execution_count": 2,
   "id": "3131b90d-154c-4b69-9792-52bcbe24407c",
   "metadata": {},
   "outputs": [
    {
     "name": "stdout",
     "output_type": "stream",
     "text": [
      "['milk', 'bread', 'eggs', 'butter']\n"
     ]
    }
   ],
   "source": [
    "#Q4) Compare and contrast tuples and lists with examples.\n",
    "Answer = \"\"\"Lists - Lists are mutable, its elements can be changed after creation. Lists is\n",
    "heterogeneous it contain all data types like boolean,string,integer,float. Lists are defined by square brackets[].\n",
    "Lists are best for collection of element which are need to be change in future.\"\"\"\n",
    "#Example of Lists\n",
    "shopping_cart = [\"milk\", \"bread\", \"eggs\"]\n",
    "shopping_cart.append(\"butter\")\n",
    "print(shopping_cart)\n"
   ]
  },
  {
   "cell_type": "code",
   "execution_count": 12,
   "id": "8fc8e898-61fc-4054-ac1c-649b5acf0b87",
   "metadata": {},
   "outputs": [
    {
     "data": {
      "text/plain": [
       "(50, 60, 45, 95)"
      ]
     },
     "execution_count": 12,
     "metadata": {},
     "output_type": "execute_result"
    }
   ],
   "source": [
    "\"\"\"Tuple - Tuple are immutable, their elements cannot be changed once it is created. It is also heterogeneous. \n",
    "Tuple are defined by parentheses (). Tuple is \"\"\"\n",
    "#Example of tuple\n",
    "Subject_Marks=(50,60,45,95)\n",
    "Subject_Marks"
   ]
  },
  {
   "cell_type": "code",
   "execution_count": 14,
   "id": "2cb0b97f-2fe8-4794-9385-1da075f93eea",
   "metadata": {},
   "outputs": [
    {
     "name": "stdout",
     "output_type": "stream",
     "text": [
      "{1, 2, 3, 4, 5, 6, 7, 8}\n"
     ]
    }
   ],
   "source": [
    "#Q5) Describe the key features of sets and provide examples of their use.\n",
    "Answer = \"\"\"Sets are mutable. Sets do not maintiain any order so these are unordered. Sets does not \n",
    "allow duplicate value, it remove duplicate values by itself. Sets are iterable but no indexing can be done in sets.\n",
    "Sets are defined by curly crackets {}\"\"\"\n",
    "# Example of Sets\n",
    "A = {1, 2, 3, 4}\n",
    "B = {3, 4, 5, 6, 7, 8}\n",
    "union_set = A.union(B)\n",
    "print(union_set)\n"
   ]
  },
  {
   "cell_type": "code",
   "execution_count": 8,
   "id": "b13e0932-4367-40b3-86d8-bba89844e22c",
   "metadata": {},
   "outputs": [
    {
     "data": {
      "text/plain": [
       "('Monday', 'Tuesday', 'Wednesday', 'Thursday', 'Friday', 'Saturday', 'Sunday')"
      ]
     },
     "execution_count": 8,
     "metadata": {},
     "output_type": "execute_result"
    }
   ],
   "source": [
    "#Q6) Discuss the use cases of tuples and sets in Python programming.\n",
    "#Use case of tuples - Tuples are used where we need fixed and permanent elements. Tuple is \n",
    "\n",
    "Days_in_a_week = (\"Monday\",\"Tuesday\",\"Wednesday\",\"Thursday\",\"Friday\",\"Saturday\",\"Sunday\")\n",
    "Days_in_a_week"
   ]
  },
  {
   "cell_type": "code",
   "execution_count": 2,
   "id": "205b283c-1745-41ac-a23c-41aec1a452e1",
   "metadata": {},
   "outputs": [
    {
     "data": {
      "text/plain": [
       "{'Apple', 'Banana', 'Chips', 'Potato', 'Soap', 'Spices', 'Towels'}"
      ]
     },
     "execution_count": 2,
     "metadata": {},
     "output_type": "execute_result"
    }
   ],
   "source": [
    "#Use case of Set - Sets are perfect for removing duplicate values. membership testing is easy in set.\n",
    "\n",
    "basket_list_1 = {\"Apple\",\"Banana\",\"Towels\",\"Soap\",\"Potato\",\"Chips\",\"Spices\",\"Apple\",\"Soap\"}\n",
    "basket_list_1"
   ]
  },
  {
   "cell_type": "code",
   "execution_count": 4,
   "id": "420bc101-4d48-4008-837d-23bbebb07f0c",
   "metadata": {},
   "outputs": [
    {
     "data": {
      "text/plain": [
       "True"
      ]
     },
     "execution_count": 4,
     "metadata": {},
     "output_type": "execute_result"
    }
   ],
   "source": [
    "\"Towels\" in basket_list_1 #Checking Membership"
   ]
  },
  {
   "cell_type": "code",
   "execution_count": 10,
   "id": "978accdf-805b-49ae-b718-a17763e38ba8",
   "metadata": {},
   "outputs": [],
   "source": [
    "set1 = {\"Hello\",\"Bhopal\",\"Indore\",\"Orange\",\"Grapes\"}\n",
    "set2 = {\"India\",\"Mango\",\"Hello\",\"Banana\",\"Orange\"}"
   ]
  },
  {
   "cell_type": "code",
   "execution_count": null,
   "id": "8a201e76-5a9b-4f26-8283-2cc80f0b6d12",
   "metadata": {},
   "outputs": [],
   "source": [
    "#Q7) Describe how to add, modify, and delete items in a dictionary with examples."
   ]
  },
  {
   "cell_type": "code",
   "execution_count": 5,
   "id": "2942b9d2-f7d4-4ee2-aaa8-a3a1b58edef2",
   "metadata": {},
   "outputs": [
    {
     "data": {
      "text/plain": [
       "{'name': 'Mahesh', 'Email': 'mahesh123@gmail.com', 'Address': 'Indore'}"
      ]
     },
     "execution_count": 5,
     "metadata": {},
     "output_type": "execute_result"
    }
   ],
   "source": [
    "#Creating a dictionary\n",
    "details = {\"name\": \"Mahesh\", \"Email\": \"mahesh123@gmail.com\", \"Address\": \"Indore\"}\n",
    "details"
   ]
  },
  {
   "cell_type": "code",
   "execution_count": 34,
   "id": "c7a3fa0b-9a34-4f0e-ad0c-98d2b21af38f",
   "metadata": {},
   "outputs": [
    {
     "data": {
      "text/plain": [
       "{'name': 'Dinesh',\n",
       " 'Email': 'dinesh456@gmail.com',\n",
       " 'Address': 'Indore',\n",
       " 'Country': 'India',\n",
       " 'State': 'MP'}"
      ]
     },
     "execution_count": 34,
     "metadata": {},
     "output_type": "execute_result"
    }
   ],
   "source": [
    "#Adding component in dictionary\n",
    "details.update({\"Country\":\"India\",\"State\":\"MP\"})\n",
    "details"
   ]
  },
  {
   "cell_type": "code",
   "execution_count": 35,
   "id": "bde3c029-6e34-4add-8e34-a8e40c053e32",
   "metadata": {},
   "outputs": [
    {
     "data": {
      "text/plain": [
       "{'name': 'Dinesh',\n",
       " 'Email': 'dinesh456@gmail.com',\n",
       " 'Address': 'Indore',\n",
       " 'Country': 'India',\n",
       " 'State': 'MP'}"
      ]
     },
     "execution_count": 35,
     "metadata": {},
     "output_type": "execute_result"
    }
   ],
   "source": [
    "#Modifying dictionary\n",
    "details[\"name\"] = \"Dinesh\"\n",
    "details[\"Email\"] = \"dinesh456@gmail.com\"\n",
    "details"
   ]
  },
  {
   "cell_type": "code",
   "execution_count": 36,
   "id": "3b3394fa-580d-42c0-9283-e8cf0a9a5434",
   "metadata": {},
   "outputs": [
    {
     "data": {
      "text/plain": [
       "{'name': 'Dinesh',\n",
       " 'Email': 'dinesh456@gmail.com',\n",
       " 'Address': 'Indore',\n",
       " 'Country': 'India'}"
      ]
     },
     "execution_count": 36,
     "metadata": {},
     "output_type": "execute_result"
    }
   ],
   "source": [
    "#Deleting component in dictionary\n",
    "details.pop(\"State\")\n",
    "details"
   ]
  },
  {
   "cell_type": "code",
   "execution_count": null,
   "id": "cecfda3f-afe0-40d0-a7cd-4023cfb42da7",
   "metadata": {},
   "outputs": [],
   "source": []
  },
  {
   "cell_type": "code",
   "execution_count": 21,
   "id": "6a0b017f-7b15-4746-8d94-07c1e0b61038",
   "metadata": {},
   "outputs": [],
   "source": [
    "#Q8)  Discuss the importance of dictionary keys being immutable and provide examples.\n",
    "Answer = \"\"\"Immutable keys play important role while executing the codes. Immutable objects such as \n",
    "String,Tuples,Numbers are used a key value. If in some case keys are mutable it will provide \n",
    "difficulty in excessing correct values of the dictionary. Immutable keys ensures that the internal \n",
    "elements of the dictionary remains constant.\"\"\""
   ]
  },
  {
   "cell_type": "code",
   "execution_count": 19,
   "id": "33d43ee3-1d04-4517-8762-aef37d8939cc",
   "metadata": {},
   "outputs": [],
   "source": [
    "# Using strings as keys\n",
    "student_grades = {\"Alice\": 90,\"Bob\": 85,\"Charlie\": 92}\n",
    "\n",
    "# Using numbers as keys\n",
    "product_prices = {101: 29.99,102: 49.99,103: 9.99}\n",
    "\n",
    "# Using tuples as keys\n",
    "coordinates = {(0, 0): \"Origin\",(1, 2): \"Point A\",(3, 4): \"Point B\"}\n"
   ]
  },
  {
   "cell_type": "code",
   "execution_count": 22,
   "id": "5cc6146d-840b-4d30-b1b8-659a213f82bd",
   "metadata": {},
   "outputs": [
    {
     "data": {
      "text/plain": [
       "{'Alice': 90, 'Bob': 85, 'Charlie': 92}"
      ]
     },
     "execution_count": 22,
     "metadata": {},
     "output_type": "execute_result"
    }
   ],
   "source": [
    "student_grades"
   ]
  },
  {
   "cell_type": "code",
   "execution_count": 23,
   "id": "d77b9061-25dc-4db3-8bb9-bcac6bce7961",
   "metadata": {},
   "outputs": [
    {
     "data": {
      "text/plain": [
       "{101: 29.99, 102: 49.99, 103: 9.99}"
      ]
     },
     "execution_count": 23,
     "metadata": {},
     "output_type": "execute_result"
    }
   ],
   "source": [
    "product_prices"
   ]
  },
  {
   "cell_type": "code",
   "execution_count": 24,
   "id": "2faf86b9-81d4-4cb1-9145-39baf0dd4424",
   "metadata": {},
   "outputs": [
    {
     "data": {
      "text/plain": [
       "{(0, 0): 'Origin', (1, 2): 'Point A', (3, 4): 'Point B'}"
      ]
     },
     "execution_count": 24,
     "metadata": {},
     "output_type": "execute_result"
    }
   ],
   "source": [
    "coordinates"
   ]
  },
  {
   "cell_type": "code",
   "execution_count": null,
   "id": "94289093-2cc9-4a26-9a20-3682983c044c",
   "metadata": {},
   "outputs": [],
   "source": []
  }
 ],
 "metadata": {
  "kernelspec": {
   "display_name": "Python 3 (ipykernel)",
   "language": "python",
   "name": "python3"
  },
  "language_info": {
   "codemirror_mode": {
    "name": "ipython",
    "version": 3
   },
   "file_extension": ".py",
   "mimetype": "text/x-python",
   "name": "python",
   "nbconvert_exporter": "python",
   "pygments_lexer": "ipython3",
   "version": "3.10.8"
  }
 },
 "nbformat": 4,
 "nbformat_minor": 5
}
